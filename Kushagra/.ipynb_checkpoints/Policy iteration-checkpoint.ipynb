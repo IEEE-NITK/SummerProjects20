{
 "cells": [
  {
   "cell_type": "code",
   "execution_count": 1,
   "metadata": {},
   "outputs": [],
   "source": [
    "import cv2\n",
    "import numpy as np\n",
    "import copy"
   ]
  },
  {
   "cell_type": "code",
   "execution_count": 2,
   "metadata": {},
   "outputs": [],
   "source": [
    "def evaluation(pi):\n",
    "    \n",
    "    directions= ['UP','DOWN','LEFT','RIGHT']\n",
    "    dir_values=[-1,1,-1,1]\n",
    "\n",
    "    dir_l=list(zip(directions,dir_values))\n",
    "    grid = np.zeros((6,6))\n",
    "      # creating a grid of 4 by 4 with one extra cell in the periphery  \n",
    "    #grid[1:5,1:5] = np.zeros((4,4))  # random intitialisation of the state values\n",
    "    #grid[1,1]=grid[4,4]=0  # assigning the terminal state value as zero\n",
    "    v=0   # comparision matrix, used to find convergence of solution\n",
    "    r=-1      # reward for each action\n",
    "    gamma=0.99# discount reward factor\n",
    "    theta= 0.000001  # convergence error \n",
    "    grid_old=np.zeros((6,6))\n",
    "    count=0\n",
    "    while True:\n",
    "        delta =0\n",
    "        for i in range(0,6):\n",
    "            if i==1:\n",
    "                    grid[i-1,:] = grid[i,:]\n",
    "\n",
    "            if i==4:\n",
    "\n",
    "                    grid[i+1,:] = grid[i,:]# updating the periphery values of the 6 by 6 grid\n",
    "        for j in range(0,6):\n",
    "            if j==1:\n",
    "                    grid[:,j-1]=grid[:,j]\n",
    "\n",
    "            if j==4:\n",
    "                    grid[:,j+1]=grid[:,j]\n",
    "\n",
    "\n",
    "\n",
    "        grid_old=grid\n",
    "\n",
    "        for k in range (1,5):                   # running loop within the actual grid\n",
    "            for l in range (1,5):\n",
    "                if (k==1 and l==1) or (k==4 and l==4):\n",
    "                    continue\n",
    "                \n",
    "                v=grid[k,l]\n",
    "                \n",
    "                grid[k,l]= pi[k-1,l-1,0]*(r+gamma*(grid_old[k-1,l]))\n",
    "                \n",
    "                for m in range(1,2):\n",
    "                    \n",
    "                    grid[k,l]+= (pi[k-1,l-1,m])*(r+gamma*(grid_old[k+dir_l[m][1],l]))\n",
    "                    \n",
    "                for m in range(2,4):\n",
    "                    grid[k,l]+= (pi[k-1,l-1,m])*(r+gamma*(grid_old[k,l+dir_l[m][1]]))\n",
    "                #updating the State values for all states except terminal \n",
    "\n",
    "                delta = max(delta ,abs(v-grid[k,l]))\n",
    "\n",
    "\n",
    "        if (delta<theta): #checking for convergenge of solution\n",
    "            #final comparison matrix\n",
    "            break\n",
    "\n",
    "     # final state value matrix for all states \n",
    "    \n",
    "    return grid"
   ]
  },
  {
   "cell_type": "code",
   "execution_count": 3,
   "metadata": {},
   "outputs": [],
   "source": [
    "pi = (np.ones((4,4,4))*0.25)\n",
    "grid=evaluation(pi)\n"
   ]
  },
  {
   "cell_type": "code",
   "execution_count": 10,
   "metadata": {},
   "outputs": [
    {
     "name": "stdout",
     "output_type": "stream",
     "text": [
      "[[  0.           0.         -11.94519995 -16.96108302 -18.60541702\n",
      "  -18.60541702]\n",
      " [  0.           0.         -11.94520053 -16.96108384 -18.60541793\n",
      "  -18.60541702]\n",
      " [-11.94519995 -11.94520053 -15.31675016 -16.97752783 -16.96108458\n",
      "  -16.96108384]\n",
      " [-16.96108302 -16.96108384 -16.97752783 -15.31675079 -11.94520152\n",
      "  -11.94520105]\n",
      " [-18.60541702 -18.60541793 -16.96108458 -11.94520152   0.\n",
      "    0.        ]\n",
      " [-18.60541702 -18.60541702 -16.96108384 -11.94520105   0.\n",
      "    0.        ]]\n",
      "[[[0.   0.   0.   0.  ]\n",
      "  [0.25 0.   0.   0.  ]\n",
      "  [0.25 0.   0.   0.  ]\n",
      "  [0.25 0.   0.   0.  ]]\n",
      "\n",
      " [[0.25 0.   0.   0.  ]\n",
      "  [0.25 0.   0.   0.  ]\n",
      "  [0.25 0.   0.   0.  ]\n",
      "  [0.25 0.   0.   0.  ]]\n",
      "\n",
      " [[0.25 0.   0.   0.  ]\n",
      "  [0.25 0.   0.   0.  ]\n",
      "  [0.25 0.   0.   0.  ]\n",
      "  [0.25 0.   0.   0.  ]]\n",
      "\n",
      " [[0.25 0.   0.   0.  ]\n",
      "  [0.25 0.   0.   0.  ]\n",
      "  [0.25 0.   0.   0.  ]\n",
      "  [0.   0.   0.   0.  ]]]\n",
      "True\n"
     ]
    }
   ],
   "source": [
    "\n",
    "state=False\n",
    "while state==False:\n",
    "    state=True\n",
    "    directions= ['UP','DOWN','LEFT','RIGHT']\n",
    "    dir_values=[-1,1,-1,1]\n",
    "    r=-1\n",
    "    gamma=0.99\n",
    "    dir_l=list(zip(directions,dir_values))\n",
    "\n",
    "    for i in range (1,5):\n",
    "        for j in range(1,5):\n",
    "\n",
    "            old=pi[i-1,j-1,:]\n",
    "            pi[i-1,j-1,:]=0\n",
    "\n",
    "            value=np.zeros((4,1))\n",
    "\n",
    "            if (i==1 and j==1) or (i==4 and j==4):\n",
    "                    continue\n",
    "\n",
    "            for k in range(0,2):\n",
    "\n",
    "                value[k,0]= r+gamma*(grid[i+dir_l[k][1],j])\n",
    "\n",
    "            for k in range(2,4):\n",
    "\n",
    "                value[k,0]= r+gamma*(grid[i,j+dir_l[k][1]])\n",
    "\n",
    "            index= np.argmax(value,axis=1)\n",
    "            for m in index:\n",
    "\n",
    "                pi[i-1,j-1,m]=(1/index.size)\n",
    "            \n",
    "            comparison = old==pi[i-1,j-1,:]\n",
    "\n",
    "\n",
    "            if (~comparison.all()):\n",
    "                \n",
    "                state= False\n",
    "\n",
    "    if (state == False):\n",
    "        grid=evaluation(pi)\n",
    "\n",
    "        \n",
    "print(grid)\n",
    "print(pi)"
   ]
  },
  {
   "cell_type": "code",
   "execution_count": 7,
   "metadata": {},
   "outputs": [
    {
     "name": "stdout",
     "output_type": "stream",
     "text": [
      "[[0. 0. 0. 0.]\n",
      " [0. 0. 0. 0.]\n",
      " [0. 0. 0. 0.]\n",
      " [0. 0. 0. 0.]]\n"
     ]
    }
   ],
   "source": [
    "a=np.zeros((4,4))\n",
    "print(a)"
   ]
  },
  {
   "cell_type": "code",
   "execution_count": 42,
   "metadata": {},
   "outputs": [
    {
     "name": "stdout",
     "output_type": "stream",
     "text": [
      "2\n"
     ]
    }
   ],
   "source": [
    "list_a = [1, 2, 3]\n",
    "list_b = [4, 5, 6]\n",
    "\n",
    "zipped = zip(list_a, list_b) # Output: Zip Object. <zip at 0x4c10a30>\n",
    "\n",
    " # TypeError: object of type 'zip' has no len()\n",
    "\n",
    " # TypeError: 'zip' object is not subscriptable\n",
    "\n",
    "list_c = list(zipped) #Output: [(1, 4), (2, 5), (3, 6)]\n",
    "\n",
    "print(list_c[1][0]) # Output []... Output is empty list becuase by the above statement zip got exhausted."
   ]
  }
 ],
 "metadata": {
  "kernelspec": {
   "display_name": "Python 3",
   "language": "python",
   "name": "python3"
  },
  "language_info": {
   "codemirror_mode": {
    "name": "ipython",
    "version": 3
   },
   "file_extension": ".py",
   "mimetype": "text/x-python",
   "name": "python",
   "nbconvert_exporter": "python",
   "pygments_lexer": "ipython3",
   "version": "3.8.2"
  }
 },
 "nbformat": 4,
 "nbformat_minor": 4
}
